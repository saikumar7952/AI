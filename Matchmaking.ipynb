{
  "nbformat": 4,
  "nbformat_minor": 0,
  "metadata": {
    "colab": {
      "provenance": [],
      "authorship_tag": "ABX9TyNAqnyIiljo5+23zT8jbXB+",
      "include_colab_link": true
    },
    "kernelspec": {
      "name": "python3",
      "display_name": "Python 3"
    },
    "language_info": {
      "name": "python"
    }
  },
  "cells": [
    {
      "cell_type": "markdown",
      "metadata": {
        "id": "view-in-github",
        "colab_type": "text"
      },
      "source": [
        "<a href=\"https://colab.research.google.com/github/saikumar7952/AI/blob/main/Matchmaking.ipynb\" target=\"_parent\"><img src=\"https://colab.research.google.com/assets/colab-badge.svg\" alt=\"Open In Colab\"/></a>"
      ]
    },
    {
      "cell_type": "code",
      "execution_count": 2,
      "metadata": {
        "colab": {
          "base_uri": "https://localhost:8080/"
        },
        "id": "Et4DZcXcnpqL",
        "outputId": "ba446dff-7a54-4f52-bd4c-0f7d95720538"
      },
      "outputs": [
        {
          "output_type": "stream",
          "name": "stdout",
          "text": [
            "Matches for Alice:\n",
            "Bob with similarity score of 0.67\n",
            "Charlie with similarity score of 0.67\n",
            "Eve with similarity score of 0.67\n",
            "David with similarity score of 0.00\n",
            "Matches for Bob:\n",
            "Alice with similarity score of 0.67\n",
            "Charlie with similarity score of 0.33\n",
            "David with similarity score of 0.33\n",
            "Eve with similarity score of 0.33\n",
            "Matches for Charlie:\n",
            "Alice with similarity score of 0.67\n",
            "Eve with similarity score of 0.67\n",
            "Bob with similarity score of 0.33\n",
            "David with similarity score of 0.33\n",
            "Matches for David:\n",
            "Bob with similarity score of 0.33\n",
            "Charlie with similarity score of 0.33\n",
            "Eve with similarity score of 0.33\n",
            "Alice with similarity score of 0.00\n",
            "Matches for Eve:\n",
            "Alice with similarity score of 0.67\n",
            "Charlie with similarity score of 0.67\n",
            "Bob with similarity score of 0.33\n",
            "David with similarity score of 0.33\n"
          ]
        }
      ],
      "source": [
        "import pandas as pd\n",
        "from sklearn.feature_extraction.text import CountVectorizer\n",
        "from sklearn.metrics.pairwise import cosine_similarity\n",
        "data = {\n",
        "    'User': ['Alice', 'Bob', 'Charlie', 'David', 'Eve'],\n",
        "    'Interests': [\n",
        "        'sports music coding',\n",
        "        'sports music movies',\n",
        "        'coding music arts',\n",
        "        'movies arts gaming',\n",
        "        'coding sports arts'\n",
        "    ]\n",
        "}\n",
        "df = pd.DataFrame(data)\n",
        "vectorizer = CountVectorizer(stop_words='english')\n",
        "interest_matrix = vectorizer.fit_transform(df['Interests'])\n",
        "cosine_sim = cosine_similarity(interest_matrix, interest_matrix)\n",
        "def get_match(user_index, cosine_sim_matrix, df):\n",
        "    similarity_scores = list(enumerate(cosine_sim_matrix[user_index]))\n",
        "    similarity_scores = sorted(similarity_scores, key=lambda x: x[1], reverse=True)\n",
        "\n",
        "    print(f\"Matches for {df['User'][user_index]}:\")\n",
        "    for index, score in similarity_scores[1:]:\n",
        "        print(f\"{df['User'][index]} with similarity score of {score:.2f}\")\n",
        "for i in range(len(df)):\n",
        "    get_match(i, cosine_sim, df)\n"
      ]
    }
  ]
}