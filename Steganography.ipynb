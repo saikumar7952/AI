{
  "nbformat": 4,
  "nbformat_minor": 0,
  "metadata": {
    "colab": {
      "provenance": [],
      "authorship_tag": "ABX9TyMUOoUMLPfUZTr/c1Xq3YyY",
      "include_colab_link": true
    },
    "kernelspec": {
      "name": "python3",
      "display_name": "Python 3"
    },
    "language_info": {
      "name": "python"
    }
  },
  "cells": [
    {
      "cell_type": "markdown",
      "metadata": {
        "id": "view-in-github",
        "colab_type": "text"
      },
      "source": [
        "<a href=\"https://colab.research.google.com/github/saikumar7952/AI/blob/main/Steganography.ipynb\" target=\"_parent\"><img src=\"https://colab.research.google.com/assets/colab-badge.svg\" alt=\"Open In Colab\"/></a>"
      ]
    },
    {
      "cell_type": "code",
      "execution_count": 7,
      "metadata": {
        "colab": {
          "base_uri": "https://localhost:8080/"
        },
        "id": "_JHfbD9HFiwu",
        "outputId": "318a44cc-b0fa-41fb-9f88-641de43366e7"
      },
      "outputs": [
        {
          "output_type": "stream",
          "name": "stdout",
          "text": [
            "Enter secret message:hello\n",
            "Enter a passcode:sai\n",
            "Enter passcode for Decryptionsai\n",
            "Decryption message: hello\n"
          ]
        }
      ],
      "source": [
        "import cv2\n",
        "import os\n",
        "import string\n",
        "\n",
        "img = cv2.imread(\"/content/Screenshot (7).png\") # Replace with the correct image path\n",
        "\n",
        "msg = input(\"Enter secret message:\")\n",
        "password = input(\"Enter a passcode:\")\n",
        "\n",
        "d = {}\n",
        "c = {}\n",
        "\n",
        "for i in range(255):\n",
        "    d[chr(i)] = i\n",
        "    c[i] = chr(i)\n",
        "\n",
        "m = 0\n",
        "n = 0\n",
        "z = 0\n",
        "\n",
        "for i in range(len(msg)):\n",
        "    img[n, m, z] = d[msg[i]]\n",
        "    n = n + 1\n",
        "    m = m + 1\n",
        "    z = (z + 1) % 3\n",
        "\n",
        "cv2.imwrite(\"encryptedImage.jpg\", img)\n",
        "os.system(\"start encryptedImage.jpg\")\n",
        "message = \"\"\n",
        "n = 0\n",
        "m = 0\n",
        "z = 0\n",
        "\n",
        "pas = input(\"Enter passcode for Decryption\")\n",
        "if password == pas:\n",
        "    for i in range(len(msg)):\n",
        "        message = message + c[img[n, m, z]]\n",
        "        n = n + 1\n",
        "        m = m + 1\n",
        "        z = (z + 1) % 3\n",
        "    print(\"Decryption message:\", message)\n",
        "else:\n",
        "    print(\"YOU ARE NOT auth\")\n"
      ]
    }
  ]
}