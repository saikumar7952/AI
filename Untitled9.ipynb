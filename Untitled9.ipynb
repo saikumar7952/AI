{
  "nbformat": 4,
  "nbformat_minor": 0,
  "metadata": {
    "colab": {
      "provenance": [],
      "authorship_tag": "ABX9TyMR5fbIXRG6tc9UEqGDZcgA",
      "include_colab_link": true
    },
    "kernelspec": {
      "name": "python3",
      "display_name": "Python 3"
    },
    "language_info": {
      "name": "python"
    }
  },
  "cells": [
    {
      "cell_type": "markdown",
      "metadata": {
        "id": "view-in-github",
        "colab_type": "text"
      },
      "source": [
        "<a href=\"https://colab.research.google.com/github/saikumar7952/AI/blob/main/Untitled9.ipynb\" target=\"_parent\"><img src=\"https://colab.research.google.com/assets/colab-badge.svg\" alt=\"Open In Colab\"/></a>"
      ]
    },
    {
      "cell_type": "code",
      "execution_count": null,
      "metadata": {
        "id": "5kdxK7J8j-Qx"
      },
      "outputs": [],
      "source": []
    },
    {
      "cell_type": "code",
      "source": [
        "import smtplib\n",
        "import os\n",
        "import openai\n",
        "import pandas as pd\n",
        "from email.mime.text import MIMEText\n",
        "from email.mime.multipart import MIMEMultipart\n",
        "SMTP_SERVER = \"smtp.gmail.com\"\n",
        "SMTP_PORT = 465\n",
        "os.environ[\"open_api_key\"]=\"API_key\"\n",
        "os.environ[\"SENDER_EMAIL\"] = \"your_gmail@gmail.com\"\n",
        "os.environ[\"SENDER_PASSWORD\"] = \"your_mail_password\"\n",
        "openai.api_key = os.getenv(\"OPENAI_API_KEY\")\n",
        "openai_client = openai.OpenAI()\n",
        "def generate_email_content(name, company):\n",
        "    prompt = f\"Write a professional cold email introducing our AI-powered matchmaking service to {name} from {company}. Keep it short and engaging (under 150 words).\"\n",
        "\n",
        "    try:\n",
        "        response = openai_client.chat.completions.create(\n",
        "            model=\"gpt-3.5-turbo\",\n",
        "            messages=[{\"role\": \"user\", \"content\": prompt}]\n",
        "        )\n",
        "        return response.choices[0].message.content.strip()\n",
        "    except Exception as e:\n",
        "        print(f\"❌ OpenAI API Error: {str(e)}\")\n",
        "        return None\n",
        "\n",
        "\n",
        "def send_email(receiver_email, receiver_name, company):\n",
        "    email_body = generate_email_content(receiver_name, company)\n",
        "    if email_body is None:\n",
        "        print(f\"Skipping email to {receiver_email} due to OpenAI API failure.\")\n",
        "        return\n",
        "\n",
        "    subject = f\"Exclusive: AI-Powered Matchmaking for {company}\"\n",
        "\n",
        "    msg = MIMEMultipart()\n",
        "    msg[\"From\"] = os.getenv(\"SENDER_EMAIL\")\n",
        "    msg[\"To\"] = receiver_email\n",
        "    msg[\"Subject\"] = subject\n",
        "    msg.attach(MIMEText(email_body, \"plain\"))\n",
        "\n",
        "    try:\n",
        "        with smtplib.SMTP_SSL(SMTP_SERVER, SMTP_PORT) as server:\n",
        "            server.login(os.getenv(\"SENDER_EMAIL\"), os.getenv(\"SENDER_PASSWORD\"))\n",
        "            server.sendmail(os.getenv(\"SENDER_EMAIL\"), receiver_email, msg.as_string())\n",
        "        print(f\"✅ Email sent successfully to {receiver_email}\")\n",
        "    except smtplib.SMTPAuthenticationError:\n",
        "        print(\"❌ Authentication Error: Check email/password or use App Password for Gmail.\")\n",
        "    except Exception as e:\n",
        "        print(f\"❌ Failed to send email to {receiver_email}: {str(e)}\")\n",
        "\n",
        "csv_file = \"aiml.csv\"\n",
        "try:\n",
        "    contacts = pd.read_csv(csv_file)\n",
        "except FileNotFoundError:\n",
        "    print(f\"❌ Error: CSV file '{csv_file}' not found.  Place it in the same directory as the script.\")\n",
        "    exit()\n",
        "except Exception as e:\n",
        "    print(f\"❌ Error reading CSV: {e}\")\n",
        "    exit()\n",
        "for index, row in contacts.iterrows():\n",
        "    send_email(row[\"Email\"], row[\"Name\"], row[\"Company\"])\n",
        "\n",
        "print(\"Finished processing emails.\")"
      ],
      "metadata": {
        "id": "XrI3QNtweyt2",
        "outputId": "749c311a-ed9d-46cc-e0cc-0fcc6b064714",
        "colab": {
          "base_uri": "https://localhost:8080/"
        }
      },
      "execution_count": 1,
      "outputs": [
        {
          "output_type": "stream",
          "name": "stdout",
          "text": [
            "❌ OpenAI API Error: Error code: 429 - {'error': {'message': 'You exceeded your current quota, please check your plan and billing details. For more information on this error, read the docs: https://platform.openai.com/docs/guides/error-codes/api-errors.', 'type': 'insufficient_quota', 'param': None, 'code': 'insufficient_quota'}}\n",
            "Skipping email to john.doe@example.com due to OpenAI API failure.\n",
            "❌ OpenAI API Error: Error code: 429 - {'error': {'message': 'You exceeded your current quota, please check your plan and billing details. For more information on this error, read the docs: https://platform.openai.com/docs/guides/error-codes/api-errors.', 'type': 'insufficient_quota', 'param': None, 'code': 'insufficient_quota'}}\n",
            "Skipping email to jane.smith@example.com due to OpenAI API failure.\n",
            "❌ OpenAI API Error: Error code: 429 - {'error': {'message': 'You exceeded your current quota, please check your plan and billing details. For more information on this error, read the docs: https://platform.openai.com/docs/guides/error-codes/api-errors.', 'type': 'insufficient_quota', 'param': None, 'code': 'insufficient_quota'}}\n",
            "Skipping email to alice.johnson@example.com due to OpenAI API failure.\n",
            "❌ OpenAI API Error: Error code: 429 - {'error': {'message': 'You exceeded your current quota, please check your plan and billing details. For more information on this error, read the docs: https://platform.openai.com/docs/guides/error-codes/api-errors.', 'type': 'insufficient_quota', 'param': None, 'code': 'insufficient_quota'}}\n",
            "Skipping email to bob.williams@example.com due to OpenAI API failure.\n",
            "❌ OpenAI API Error: Error code: 429 - {'error': {'message': 'You exceeded your current quota, please check your plan and billing details. For more information on this error, read the docs: https://platform.openai.com/docs/guides/error-codes/api-errors.', 'type': 'insufficient_quota', 'param': None, 'code': 'insufficient_quota'}}\n",
            "Skipping email to charlie.brown@example.com due to OpenAI API failure.\n",
            "❌ OpenAI API Error: Error code: 429 - {'error': {'message': 'You exceeded your current quota, please check your plan and billing details. For more information on this error, read the docs: https://platform.openai.com/docs/guides/error-codes/api-errors.', 'type': 'insufficient_quota', 'param': None, 'code': 'insufficient_quota'}}\n",
            "Skipping email to anirudhchadaram078@gmail.com due to OpenAI API failure.\n",
            "Finished processing emails.\n"
          ]
        }
      ]
    }
  ]
}